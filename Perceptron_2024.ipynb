{
  "nbformat": 4,
  "nbformat_minor": 0,
  "metadata": {
    "colab": {
      "provenance": []
    },
    "kernelspec": {
      "name": "python3",
      "display_name": "Python 3"
    },
    "language_info": {
      "name": "python"
    }
  },
  "cells": [
    {
      "cell_type": "code",
      "source": [
        "import numpy as np\n",
        "\n",
        "# Define the perceptron predict function\n",
        "def perceptron_predict(X, trained_weights, trained_bias):\n",
        "    predictions = []\n",
        "\n",
        "    # Loop through each input in X\n",
        "    for inputs in X:\n",
        "        # Calculate the weighted sum (dot product of inputs and weights plus bias)\n",
        "        weighted_sum = np.dot(inputs, trained_weights) + trained_bias\n",
        "        # Apply step function: if weighted_sum > 0, output 1, else 0\n",
        "        prediction = 1 if weighted_sum > 0 else 0\n",
        "        predictions.append(prediction)\n",
        "\n",
        "    return np.array(predictions)\n",
        "\n",
        "# Example usage\n",
        "\n",
        "# Define the input data (X), this could be test data or new inputs\n",
        "X = np.array([[0, 0], [0, 1], [1, 0], [1, 1]])\n",
        "\n",
        "# Assume we have some trained weights and bias from training (for AND gate example)\n",
        "trained_weights = np.array([1, 1])  # Example: trained weights for x1 and x2\n",
        "trained_bias = -0.5 # Example: trained bias\n",
        "\n",
        "# Call perceptron_predict function to get predictions\n",
        "predictions = perceptron_predict(X, trained_weights, trained_bias)\n",
        "\n",
        "# Print the predictions\n",
        "print(\"Predictions:\", predictions)"
      ],
      "metadata": {
        "id": "1p5aZEOjYC6t",
        "colab": {
          "base_uri": "https://localhost:8080/"
        },
        "outputId": "a929d388-ccf4-473c-ad2f-b301c452745f"
      },
      "execution_count": 7,
      "outputs": [
        {
          "output_type": "stream",
          "name": "stdout",
          "text": [
            "Predictions: [0 1 1 1]\n"
          ]
        }
      ]
    },
    {
      "cell_type": "code",
      "source": [],
      "metadata": {
        "id": "S-BL02cX5mrm"
      },
      "execution_count": null,
      "outputs": []
    }
  ]
}